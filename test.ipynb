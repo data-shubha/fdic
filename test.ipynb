{
 "cells": [
  {
   "cell_type": "code",
   "execution_count": 1,
   "id": "24bbebff",
   "metadata": {},
   "outputs": [],
   "source": [
    "import numpy as np\n",
    "import camelot\n",
    "import pandas as pd"
   ]
  },
  {
   "cell_type": "code",
   "execution_count": 2,
   "id": "5e2485ed",
   "metadata": {},
   "outputs": [],
   "source": [
    "dict_fetch = {\"Past-Due and Nonaccrual Loans / Total Loans\" : \"Asset Quality\",\n",
    "              \"Noncurrent Loans / Total Loans\" : \"Asset Quality\",\n",
    "              \"Loan and Lease Allowance / Total Loans\" : \"Asset Quality\",\n",
    "              \"Loan and Lease Allowance / Noncurrent Loans\" : \"Asset Quality\",\n",
    "              \"Net Loan Losses / Total Loans\" : \"Asset Quality\",\n",
    "              \"Return on Assets\" : \"Earnings\",\n",
    "              \"Net Interest Margin\" : \"Earnings\",\n",
    "              \"Yield on Earning Assets\" : \"Earnings\",\n",
    "              \"Cost of Funding Earning Assets\" : \"Earnings\",\n",
    "              \"Provisions to Avg. Assets\" : \"Earnings\",\n",
    "              \"Overhead to Avg. Assets\" : \"Earnings\",\n",
    "              \"Net Loans to Assets\" : \"Liquidity\",\n",
    "              \"Long-term Assets to Assets\" : \"Liquidity\"\n",
    "            }"
   ]
  },
  {
   "cell_type": "code",
   "execution_count": null,
   "id": "8741fbe8",
   "metadata": {},
   "outputs": [],
   "source": [
    "download_link = 'https://www.fdic.gov/analysis/state-profiles/dallas/ak.pdf'"
   ]
  },
  {
   "cell_type": "code",
   "execution_count": null,
   "id": "0f87a3cf",
   "metadata": {},
   "outputs": [],
   "source": [
    "tables = camelot.read_pdf(filepath='ak.pdf',flavor='stream',edge_tol=1500)\n",
    "temp_df = tables[1].df\n",
    "remove_from_bracket = lambda text : text.split('(', 1)[0]\n",
    "remove_spaces = lambda text : text.strip()\n",
    "temp_df[0] = temp_df[0].map(remove_from_bracket).map(remove_spaces)\n",
    "temp_df = temp_df[0:52]\n",
    "temp_df = temp_df.drop([1], axis=1)\n",
    "column_name_1 = temp_df[0][1]\n",
    "temp_df = temp_df.replace(r'^\\s*$', np.nan, regex=True)\n",
    "temp_df = temp_df.dropna()\n",
    "temp_df = temp_df.reset_index(drop = True)\n",
    "temp_df.columns = temp_df.iloc[0]\n",
    "temp_df = temp_df.drop(temp_df.index[0])\n",
    "temp_df.rename(columns={'Employment Growth Rates': column_name_1}, inplace=True)\n",
    "temp_df = temp_df.reset_index(drop = True)\n",
    "filter_df = pd.DataFrame()\n",
    "filter_df['Category'] = \"\"\n",
    "for i in range(len(temp_df)):\n",
    "    eco_indi = temp_df['ECONOMIC INDICATORS'][i]\n",
    "    for key,value in dict_fetch.items():\n",
    "        if key == eco_indi:\n",
    "            filter_df = filter_df.append(temp_df[temp_df['ECONOMIC INDICATORS'] == eco_indi])\n",
    "            filter_df['Category'][i] = value\n",
    "filter_df = filter_df[['ECONOMIC INDICATORS', 'Q2-21', 'Q1-21', 'Q2-20', '2020', '2019', 'Category']]\n",
    "filter_df = filter_df.reset_index(drop = True)"
   ]
  },
  {
   "cell_type": "code",
   "execution_count": null,
   "id": "c635a527",
   "metadata": {},
   "outputs": [],
   "source": [
    "filter_df['state_alias'] = (download_link.split('/')[-1]).split('.')[0]"
   ]
  },
  {
   "cell_type": "code",
   "execution_count": null,
   "id": "6a77fec7",
   "metadata": {},
   "outputs": [],
   "source": [
    "filter_df"
   ]
  }
 ],
 "metadata": {
  "kernelspec": {
   "display_name": "Python 3 (ipykernel)",
   "language": "python",
   "name": "python3"
  },
  "language_info": {
   "codemirror_mode": {
    "name": "ipython",
    "version": 3
   },
   "file_extension": ".py",
   "mimetype": "text/x-python",
   "name": "python",
   "nbconvert_exporter": "python",
   "pygments_lexer": "ipython3",
   "version": "3.8.8"
  }
 },
 "nbformat": 4,
 "nbformat_minor": 5
}
