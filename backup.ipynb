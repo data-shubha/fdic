{
 "cells": [
  {
   "cell_type": "markdown",
   "id": "46e82e58",
   "metadata": {},
   "source": [
    "### California, Delaware, North Carolina, New York, Ohio, South Dakota, Texas, "
   ]
  },
  {
   "cell_type": "code",
   "execution_count": null,
   "id": "02d15bb4",
   "metadata": {},
   "outputs": [],
   "source": [
    "file_path = '/home/shubha/work/byteiq_tasks/fdic/download/ca.pdf'"
   ]
  },
  {
   "cell_type": "code",
   "execution_count": null,
   "id": "e16e379b",
   "metadata": {},
   "outputs": [],
   "source": [
    "tables = camelot.read_pdf(filepath=file_path,flavor='stream',edge_tol=1500)\n",
    "temp_df = tables[1].df\n",
    "remove_from_bracket = lambda text : text.split('(', 1)[0]\n",
    "remove_spaces = lambda text : text.strip()\n",
    "temp_df[0] = temp_df[0].map(remove_from_bracket).map(remove_spaces)\n",
    "# temp_df = temp_df.drop([1], axis=1)\n",
    "temp_df = temp_df.replace(r'^\\s*$', np.nan, regex=True)\n",
    "temp_df = temp_df.dropna()\n",
    "temp_df = temp_df.reset_index(drop = True)\n",
    "temp_df.columns = temp_df.iloc[0]\n",
    "temp_df = temp_df.drop(temp_df.index[0])\n",
    "temp_df.rename(columns={'Employment Growth Rates': 'ECONOMIC INDICATORS'}, inplace=True)\n",
    "temp_df = temp_df.reset_index(drop = True)\n",
    "filter_df = pd.DataFrame()\n",
    "filter_df['Category'] = \"\"\n",
    "for i in range(len(temp_df)):\n",
    "    eco_indi = temp_df['ECONOMIC INDICATORS'][i]\n",
    "    for key,value in dict_fetch.items():\n",
    "        if key == eco_indi:\n",
    "            filter_df = filter_df.append(temp_df[temp_df['ECONOMIC INDICATORS'] == eco_indi])\n",
    "            filter_df['Category'][i] = value\n",
    "filter_df = filter_df[['ECONOMIC INDICATORS', 'Q2-21', 'Q1-21', 'Q2-20', '2020', '2019', 'Category']]\n",
    "filter_df = filter_df.reset_index(drop = True)\n",
    "filter_df['state_alias'] = (file_path.split('/')[-1]).split('.')[0]"
   ]
  },
  {
   "cell_type": "markdown",
   "id": "7e6d2235",
   "metadata": {},
   "source": [
    "### Alaska, Hawaii, Mississippi, Nebraska, New Hampshire, New Mexico, Wyoming"
   ]
  },
  {
   "cell_type": "code",
   "execution_count": null,
   "id": "3a329ae1",
   "metadata": {},
   "outputs": [],
   "source": [
    "file_path = '/home/shubha/work/byteiq_tasks/fdic/download/ak.pdf'"
   ]
  },
  {
   "cell_type": "code",
   "execution_count": null,
   "id": "9f2fd9fd",
   "metadata": {},
   "outputs": [],
   "source": [
    "tables = camelot.read_pdf(filepath=file_path,flavor='stream',edge_tol=1500)\n",
    "temp_df = tables[0].df\n",
    "remove_from_bracket = lambda text : text.split('(', 1)[0]\n",
    "remove_spaces = lambda text : text.strip()\n",
    "temp_df[0] = temp_df[0].map(remove_from_bracket).map(remove_spaces)\n",
    "temp_df = temp_df.drop([1], axis=1)\n",
    "temp_df = temp_df.replace(r'^\\s*$', np.nan, regex=True)\n",
    "temp_df = temp_df.dropna()\n",
    "temp_df = temp_df.reset_index(drop = True)\n",
    "temp_df.columns = temp_df.iloc[0]\n",
    "temp_df = temp_df.drop(temp_df.index[0])\n",
    "temp_df.rename(columns={'Employment Growth Rates': 'ECONOMIC INDICATORS'}, inplace=True)\n",
    "temp_df = temp_df.reset_index(drop = True)\n",
    "filter_df = pd.DataFrame()\n",
    "filter_df['Category'] = \"\"\n",
    "for i in range(len(temp_df)):\n",
    "    eco_indi = temp_df['ECONOMIC INDICATORS'][i]\n",
    "    for key,value in dict_fetch.items():\n",
    "        if key == eco_indi:\n",
    "            filter_df = filter_df.append(temp_df[temp_df['ECONOMIC INDICATORS'] == eco_indi])\n",
    "            filter_df['Category'][i] = value\n",
    "filter_df = filter_df[['ECONOMIC INDICATORS', 'Q2-21', 'Q1-21', 'Q2-20', '2020', '2019', 'Category']]\n",
    "filter_df = filter_df.reset_index(drop = True)\n",
    "filter_df['state_alias'] = (file_path.split('/')[-1]).split('.')[0]"
   ]
  }
 ],
 "metadata": {
  "kernelspec": {
   "display_name": "Python 3 (ipykernel)",
   "language": "python",
   "name": "python3"
  },
  "language_info": {
   "codemirror_mode": {
    "name": "ipython",
    "version": 3
   },
   "file_extension": ".py",
   "mimetype": "text/x-python",
   "name": "python",
   "nbconvert_exporter": "python",
   "pygments_lexer": "ipython3",
   "version": "3.8.8"
  }
 },
 "nbformat": 4,
 "nbformat_minor": 5
}
