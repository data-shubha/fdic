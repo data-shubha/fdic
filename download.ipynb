{
 "cells": [
  {
   "cell_type": "code",
   "execution_count": 2,
   "id": "767a6604",
   "metadata": {},
   "outputs": [],
   "source": [
    "import urllib.request\n",
    "from bs4 import BeautifulSoup"
   ]
  },
  {
   "cell_type": "code",
   "execution_count": 4,
   "id": "b7a521e0",
   "metadata": {},
   "outputs": [],
   "source": [
    "list_of_links = []"
   ]
  },
  {
   "cell_type": "code",
   "execution_count": 8,
   "id": "69a9ef09",
   "metadata": {},
   "outputs": [
    {
     "name": "stdout",
     "output_type": "stream",
     "text": [
      "https://www.fdic.gov//analysis/state-profiles/chicago/oh.pdf\n",
      "https://www.fdic.gov//analysis/state-profiles/dallas/ok.pdf\n",
      "https://www.fdic.gov//analysis/state-profiles/sanfrancisco/or.pdf\n",
      "https://www.fdic.gov//analysis/state-profiles/newyork/pa.pdf\n",
      "https://www.fdic.gov//analysis/state-profiles/newyork/pr.pdf\n",
      "https://www.fdic.gov//analysis/state-profiles/newyork/ri.pdf\n",
      "https://www.fdic.gov//analysis/state-profiles/atlanta/sc.pdf\n",
      "https://www.fdic.gov//analysis/state-profiles/kansascity/sd.pdf\n",
      "https://www.fdic.gov//analysis/state-profiles/dallas/tn.pdf\n",
      "https://www.fdic.gov//analysis/state-profiles/dallas/tx.pdf\n",
      "https://www.fdic.gov//analysis/state-profiles/sanfrancisco/ut.pdf\n",
      "https://www.fdic.gov//analysis/state-profiles/newyork/vt.pdf\n",
      "https://www.fdic.gov//analysis/state-profiles/atlanta/va.pdf\n",
      "https://www.fdic.gov//analysis/state-profiles/sanfrancisco/wa.pdf\n",
      "https://www.fdic.gov//analysis/state-profiles/atlanta/wv.pdf\n",
      "https://www.fdic.gov//analysis/state-profiles/chicago/wi.pdf\n",
      "https://www.fdic.gov//analysis/state-profiles/sanfrancisco/wy.pdf\n"
     ]
    }
   ],
   "source": [
    "url = \"https://www.fdic.gov/analysis/state-profiles/\"\n",
    "text = urllib.request.urlopen(url).read()\n",
    "soup = BeautifulSoup(text)\n",
    "data = soup.findAll('div',attrs={'class':'column1', 'class':'column2', 'class':'column3'})\n",
    "for div in data:\n",
    "    links = div.findAll('a')\n",
    "    for a in links:\n",
    "        list_of_links.append(\"https://www.fdic.gov/\" + a['href'])\n",
    "        print(\"https://www.fdic.gov/\" + a['href'])"
   ]
  },
  {
   "cell_type": "code",
   "execution_count": 9,
   "id": "061c3676",
   "metadata": {},
   "outputs": [
    {
     "data": {
      "text/plain": [
       "['https://www.fdic.gov//analysis/state-profiles/atlanta/al.pdf',\n",
       " 'https://www.fdic.gov//analysis/state-profiles/sanfrancisco/ak.pdf',\n",
       " 'https://www.fdic.gov//analysis/state-profiles/sanfrancisco/az.pdf',\n",
       " 'https://www.fdic.gov//analysis/state-profiles/dallas/ar.pdf',\n",
       " 'https://www.fdic.gov//analysis/state-profiles/sanfrancisco/ca.pdf',\n",
       " 'https://www.fdic.gov//analysis/state-profiles/dallas/co.pdf',\n",
       " 'https://www.fdic.gov//analysis/state-profiles/newyork/ct.pdf',\n",
       " 'https://www.fdic.gov//analysis/state-profiles/newyork/de.pdf',\n",
       " 'https://www.fdic.gov//analysis/state-profiles/atlanta/fl.pdf',\n",
       " 'https://www.fdic.gov//analysis/state-profiles/atlanta/ga.pdf',\n",
       " 'https://www.fdic.gov//analysis/state-profiles/sanfrancisco/hi.pdf',\n",
       " 'https://www.fdic.gov//analysis/state-profiles/sanfrancisco/id.pdf',\n",
       " 'https://www.fdic.gov//analysis/state-profiles/chicago/il.pdf',\n",
       " 'https://www.fdic.gov//analysis/state-profiles/chicago/in.pdf',\n",
       " 'https://www.fdic.gov//analysis/state-profiles/kansascity/ia.pdf',\n",
       " 'https://www.fdic.gov//analysis/state-profiles/kansascity/ks.pdf',\n",
       " 'https://www.fdic.gov//analysis/state-profiles/chicago/ky.pdf',\n",
       " 'https://www.fdic.gov//analysis/state-profiles/dallas/la.pdf',\n",
       " 'https://www.fdic.gov//analysis/state-profiles/newyork/me.pdf',\n",
       " 'https://www.fdic.gov//analysis/state-profiles/newyork/md.pdf',\n",
       " 'https://www.fdic.gov//analysis/state-profiles/newyork/ma.pdf',\n",
       " 'https://www.fdic.gov//analysis/state-profiles/chicago/mi.pdf',\n",
       " 'https://www.fdic.gov//analysis/state-profiles/kansascity/mn.pdf',\n",
       " 'https://www.fdic.gov//analysis/state-profiles/dallas/ms.pdf',\n",
       " 'https://www.fdic.gov//analysis/state-profiles/kansascity/mo.pdf',\n",
       " 'https://www.fdic.gov//analysis/state-profiles/sanfrancisco/mt.pdf',\n",
       " 'https://www.fdic.gov//analysis/state-profiles/kansascity/ne.pdf',\n",
       " 'https://www.fdic.gov//analysis/state-profiles/sanfrancisco/nv.pdf',\n",
       " 'https://www.fdic.gov//analysis/state-profiles/newyork/nh.pdf',\n",
       " 'https://www.fdic.gov//analysis/state-profiles/newyork/nj.pdf',\n",
       " 'https://www.fdic.gov//analysis/state-profiles/dallas/nm.pdf',\n",
       " 'https://www.fdic.gov//analysis/state-profiles/newyork/ny.pdf',\n",
       " 'https://www.fdic.gov//analysis/state-profiles/atlanta/nc.pdf',\n",
       " 'https://www.fdic.gov//analysis/state-profiles/kansascity/nd.pdf',\n",
       " 'https://www.fdic.gov//analysis/state-profiles/chicago/oh.pdf',\n",
       " 'https://www.fdic.gov//analysis/state-profiles/dallas/ok.pdf',\n",
       " 'https://www.fdic.gov//analysis/state-profiles/sanfrancisco/or.pdf',\n",
       " 'https://www.fdic.gov//analysis/state-profiles/newyork/pa.pdf',\n",
       " 'https://www.fdic.gov//analysis/state-profiles/newyork/pr.pdf',\n",
       " 'https://www.fdic.gov//analysis/state-profiles/newyork/ri.pdf',\n",
       " 'https://www.fdic.gov//analysis/state-profiles/atlanta/sc.pdf',\n",
       " 'https://www.fdic.gov//analysis/state-profiles/kansascity/sd.pdf',\n",
       " 'https://www.fdic.gov//analysis/state-profiles/dallas/tn.pdf',\n",
       " 'https://www.fdic.gov//analysis/state-profiles/dallas/tx.pdf',\n",
       " 'https://www.fdic.gov//analysis/state-profiles/sanfrancisco/ut.pdf',\n",
       " 'https://www.fdic.gov//analysis/state-profiles/newyork/vt.pdf',\n",
       " 'https://www.fdic.gov//analysis/state-profiles/atlanta/va.pdf',\n",
       " 'https://www.fdic.gov//analysis/state-profiles/sanfrancisco/wa.pdf',\n",
       " 'https://www.fdic.gov//analysis/state-profiles/atlanta/wv.pdf',\n",
       " 'https://www.fdic.gov//analysis/state-profiles/chicago/wi.pdf',\n",
       " 'https://www.fdic.gov//analysis/state-profiles/sanfrancisco/wy.pdf']"
      ]
     },
     "execution_count": 9,
     "metadata": {},
     "output_type": "execute_result"
    }
   ],
   "source": [
    "list_of_links"
   ]
  },
  {
   "cell_type": "code",
   "execution_count": 10,
   "id": "551d8dce",
   "metadata": {},
   "outputs": [
    {
     "data": {
      "text/plain": [
       "51"
      ]
     },
     "execution_count": 10,
     "metadata": {},
     "output_type": "execute_result"
    }
   ],
   "source": [
    "len(list_of_links)"
   ]
  },
  {
   "cell_type": "code",
   "execution_count": 11,
   "id": "4e1773c1",
   "metadata": {},
   "outputs": [
    {
     "name": "stdout",
     "output_type": "stream",
     "text": [
      "https://www.fdic.gov//analysis/state-profiles/atlanta/al.pdf\n",
      "https://www.fdic.gov//analysis/state-profiles/sanfrancisco/ak.pdf\n",
      "https://www.fdic.gov//analysis/state-profiles/sanfrancisco/az.pdf\n",
      "https://www.fdic.gov//analysis/state-profiles/dallas/ar.pdf\n",
      "https://www.fdic.gov//analysis/state-profiles/sanfrancisco/ca.pdf\n",
      "https://www.fdic.gov//analysis/state-profiles/dallas/co.pdf\n",
      "https://www.fdic.gov//analysis/state-profiles/newyork/ct.pdf\n",
      "https://www.fdic.gov//analysis/state-profiles/newyork/de.pdf\n",
      "https://www.fdic.gov//analysis/state-profiles/atlanta/fl.pdf\n",
      "https://www.fdic.gov//analysis/state-profiles/atlanta/ga.pdf\n",
      "https://www.fdic.gov//analysis/state-profiles/sanfrancisco/hi.pdf\n",
      "https://www.fdic.gov//analysis/state-profiles/sanfrancisco/id.pdf\n",
      "https://www.fdic.gov//analysis/state-profiles/chicago/il.pdf\n",
      "https://www.fdic.gov//analysis/state-profiles/chicago/in.pdf\n",
      "https://www.fdic.gov//analysis/state-profiles/kansascity/ia.pdf\n",
      "https://www.fdic.gov//analysis/state-profiles/kansascity/ks.pdf\n",
      "https://www.fdic.gov//analysis/state-profiles/chicago/ky.pdf\n",
      "https://www.fdic.gov//analysis/state-profiles/dallas/la.pdf\n",
      "https://www.fdic.gov//analysis/state-profiles/newyork/me.pdf\n",
      "https://www.fdic.gov//analysis/state-profiles/newyork/md.pdf\n",
      "https://www.fdic.gov//analysis/state-profiles/newyork/ma.pdf\n",
      "https://www.fdic.gov//analysis/state-profiles/chicago/mi.pdf\n",
      "https://www.fdic.gov//analysis/state-profiles/kansascity/mn.pdf\n",
      "https://www.fdic.gov//analysis/state-profiles/dallas/ms.pdf\n",
      "https://www.fdic.gov//analysis/state-profiles/kansascity/mo.pdf\n",
      "https://www.fdic.gov//analysis/state-profiles/sanfrancisco/mt.pdf\n",
      "https://www.fdic.gov//analysis/state-profiles/kansascity/ne.pdf\n",
      "https://www.fdic.gov//analysis/state-profiles/sanfrancisco/nv.pdf\n",
      "https://www.fdic.gov//analysis/state-profiles/newyork/nh.pdf\n",
      "https://www.fdic.gov//analysis/state-profiles/newyork/nj.pdf\n",
      "https://www.fdic.gov//analysis/state-profiles/dallas/nm.pdf\n",
      "https://www.fdic.gov//analysis/state-profiles/newyork/ny.pdf\n",
      "https://www.fdic.gov//analysis/state-profiles/atlanta/nc.pdf\n",
      "https://www.fdic.gov//analysis/state-profiles/kansascity/nd.pdf\n",
      "https://www.fdic.gov//analysis/state-profiles/chicago/oh.pdf\n",
      "https://www.fdic.gov//analysis/state-profiles/dallas/ok.pdf\n",
      "https://www.fdic.gov//analysis/state-profiles/sanfrancisco/or.pdf\n",
      "https://www.fdic.gov//analysis/state-profiles/newyork/pa.pdf\n",
      "https://www.fdic.gov//analysis/state-profiles/newyork/pr.pdf\n",
      "https://www.fdic.gov//analysis/state-profiles/newyork/ri.pdf\n",
      "https://www.fdic.gov//analysis/state-profiles/atlanta/sc.pdf\n",
      "https://www.fdic.gov//analysis/state-profiles/kansascity/sd.pdf\n",
      "https://www.fdic.gov//analysis/state-profiles/dallas/tn.pdf\n",
      "https://www.fdic.gov//analysis/state-profiles/dallas/tx.pdf\n",
      "https://www.fdic.gov//analysis/state-profiles/sanfrancisco/ut.pdf\n",
      "https://www.fdic.gov//analysis/state-profiles/newyork/vt.pdf\n",
      "https://www.fdic.gov//analysis/state-profiles/atlanta/va.pdf\n",
      "https://www.fdic.gov//analysis/state-profiles/sanfrancisco/wa.pdf\n",
      "https://www.fdic.gov//analysis/state-profiles/atlanta/wv.pdf\n",
      "https://www.fdic.gov//analysis/state-profiles/chicago/wi.pdf\n",
      "https://www.fdic.gov//analysis/state-profiles/sanfrancisco/wy.pdf\n"
     ]
    }
   ],
   "source": [
    "for link in list_of_links:\n",
    "    print(link)"
   ]
  },
  {
   "cell_type": "code",
   "execution_count": 13,
   "id": "a0df019f",
   "metadata": {},
   "outputs": [],
   "source": [
    "import requests"
   ]
  },
  {
   "cell_type": "code",
   "execution_count": 18,
   "id": "f76918a6",
   "metadata": {},
   "outputs": [],
   "source": [
    "path = '/home/shubha/work/byteiq_tasks/fdic/download/'"
   ]
  },
  {
   "cell_type": "code",
   "execution_count": null,
   "id": "5ff7b568",
   "metadata": {},
   "outputs": [],
   "source": [
    "text = urllib.request.urlopen(url).read()"
   ]
  },
  {
   "cell_type": "code",
   "execution_count": 19,
   "id": "ab380b7d",
   "metadata": {},
   "outputs": [
    {
     "name": "stdout",
     "output_type": "stream",
     "text": [
      "al.pdf\n",
      "ak.pdf\n",
      "az.pdf\n",
      "ar.pdf\n",
      "ca.pdf\n",
      "co.pdf\n",
      "ct.pdf\n",
      "de.pdf\n",
      "fl.pdf\n",
      "ga.pdf\n",
      "hi.pdf\n",
      "id.pdf\n",
      "il.pdf\n",
      "in.pdf\n",
      "ia.pdf\n",
      "ks.pdf\n",
      "ky.pdf\n",
      "la.pdf\n",
      "me.pdf\n",
      "md.pdf\n",
      "ma.pdf\n",
      "mi.pdf\n",
      "mn.pdf\n",
      "ms.pdf\n",
      "mo.pdf\n",
      "mt.pdf\n",
      "ne.pdf\n",
      "nv.pdf\n",
      "nh.pdf\n",
      "nj.pdf\n",
      "nm.pdf\n",
      "ny.pdf\n",
      "nc.pdf\n",
      "nd.pdf\n",
      "oh.pdf\n",
      "ok.pdf\n",
      "or.pdf\n",
      "pa.pdf\n",
      "pr.pdf\n",
      "ri.pdf\n",
      "sc.pdf\n",
      "sd.pdf\n",
      "tn.pdf\n",
      "tx.pdf\n",
      "ut.pdf\n",
      "vt.pdf\n",
      "va.pdf\n",
      "wa.pdf\n",
      "wv.pdf\n",
      "wi.pdf\n",
      "wy.pdf\n"
     ]
    }
   ],
   "source": [
    "for link in list_of_links:\n",
    "    file_name = link.split('/')[-1]\n",
    "    response = requests.get(link)\n",
    "    file = open(path + file_name,'wb')\n",
    "    file.write(response.content)\n",
    "    print(file_name)\n",
    "    file.close()"
   ]
  },
  {
   "cell_type": "code",
   "execution_count": 12,
   "id": "ee5ddb43",
   "metadata": {},
   "outputs": [
    {
     "data": {
      "text/plain": [
       "'/home/shubha/work/byteiq_tasks/fdic'"
      ]
     },
     "execution_count": 12,
     "metadata": {},
     "output_type": "execute_result"
    }
   ],
   "source": [
    "pwd"
   ]
  },
  {
   "cell_type": "code",
   "execution_count": null,
   "id": "262ee1d8",
   "metadata": {},
   "outputs": [],
   "source": [
    "file_name = url.split('/')[-1]\n",
    "u = urllib2.urlopen(url)\n",
    "f = open(file_name, 'wb')"
   ]
  }
 ],
 "metadata": {
  "kernelspec": {
   "display_name": "Python 3 (ipykernel)",
   "language": "python",
   "name": "python3"
  },
  "language_info": {
   "codemirror_mode": {
    "name": "ipython",
    "version": 3
   },
   "file_extension": ".py",
   "mimetype": "text/x-python",
   "name": "python",
   "nbconvert_exporter": "python",
   "pygments_lexer": "ipython3",
   "version": "3.8.8"
  }
 },
 "nbformat": 4,
 "nbformat_minor": 5
}
