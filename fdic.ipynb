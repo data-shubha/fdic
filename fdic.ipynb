{
 "cells": [
  {
   "cell_type": "code",
   "execution_count": 1,
   "id": "e7fb3c6f",
   "metadata": {},
   "outputs": [],
   "source": [
    "import urllib.request\n",
    "from bs4 import BeautifulSoup"
   ]
  },
  {
   "cell_type": "code",
   "execution_count": 2,
   "id": "58ee925e",
   "metadata": {},
   "outputs": [
    {
     "name": "stdout",
     "output_type": "stream",
     "text": [
      "https://www.fdic.gov//analysis/state-profiles/atlanta/al.pdf\n",
      "https://www.fdic.gov//analysis/state-profiles/sanfrancisco/ak.pdf\n",
      "https://www.fdic.gov//analysis/state-profiles/sanfrancisco/az.pdf\n",
      "https://www.fdic.gov//analysis/state-profiles/dallas/ar.pdf\n",
      "https://www.fdic.gov//analysis/state-profiles/sanfrancisco/ca.pdf\n",
      "https://www.fdic.gov//analysis/state-profiles/dallas/co.pdf\n",
      "https://www.fdic.gov//analysis/state-profiles/newyork/ct.pdf\n",
      "https://www.fdic.gov//analysis/state-profiles/newyork/de.pdf\n",
      "https://www.fdic.gov//analysis/state-profiles/atlanta/fl.pdf\n",
      "https://www.fdic.gov//analysis/state-profiles/atlanta/ga.pdf\n",
      "https://www.fdic.gov//analysis/state-profiles/sanfrancisco/hi.pdf\n",
      "https://www.fdic.gov//analysis/state-profiles/sanfrancisco/id.pdf\n",
      "https://www.fdic.gov//analysis/state-profiles/chicago/il.pdf\n",
      "https://www.fdic.gov//analysis/state-profiles/chicago/in.pdf\n",
      "https://www.fdic.gov//analysis/state-profiles/kansascity/ia.pdf\n",
      "https://www.fdic.gov//analysis/state-profiles/kansascity/ks.pdf\n",
      "https://www.fdic.gov//analysis/state-profiles/chicago/ky.pdf\n"
     ]
    }
   ],
   "source": [
    "url = \"https://www.fdic.gov/analysis/state-profiles/\"\n",
    "text = urllib.request.urlopen(url).read()\n",
    "soup = BeautifulSoup(text)\n",
    "data = soup.findAll('div',attrs={'class':'column1'})\n",
    "for div in data:\n",
    "    links = div.findAll('a')\n",
    "    for a in links:\n",
    "        print(\"https://www.fdic.gov/\" + a['href'])"
   ]
  },
  {
   "cell_type": "code",
   "execution_count": 3,
   "id": "2afdbccb",
   "metadata": {},
   "outputs": [
    {
     "name": "stdout",
     "output_type": "stream",
     "text": [
      "https://www.fdic.gov//analysis/state-profiles/dallas/la.pdf\n",
      "https://www.fdic.gov//analysis/state-profiles/newyork/me.pdf\n",
      "https://www.fdic.gov//analysis/state-profiles/newyork/md.pdf\n",
      "https://www.fdic.gov//analysis/state-profiles/newyork/ma.pdf\n",
      "https://www.fdic.gov//analysis/state-profiles/chicago/mi.pdf\n",
      "https://www.fdic.gov//analysis/state-profiles/kansascity/mn.pdf\n",
      "https://www.fdic.gov//analysis/state-profiles/dallas/ms.pdf\n",
      "https://www.fdic.gov//analysis/state-profiles/kansascity/mo.pdf\n",
      "https://www.fdic.gov//analysis/state-profiles/sanfrancisco/mt.pdf\n",
      "https://www.fdic.gov//analysis/state-profiles/kansascity/ne.pdf\n",
      "https://www.fdic.gov//analysis/state-profiles/sanfrancisco/nv.pdf\n",
      "https://www.fdic.gov//analysis/state-profiles/newyork/nh.pdf\n",
      "https://www.fdic.gov//analysis/state-profiles/newyork/nj.pdf\n",
      "https://www.fdic.gov//analysis/state-profiles/dallas/nm.pdf\n",
      "https://www.fdic.gov//analysis/state-profiles/newyork/ny.pdf\n",
      "https://www.fdic.gov//analysis/state-profiles/atlanta/nc.pdf\n",
      "https://www.fdic.gov//analysis/state-profiles/kansascity/nd.pdf\n"
     ]
    }
   ],
   "source": [
    "url = \"https://www.fdic.gov/analysis/state-profiles/\"\n",
    "text = urllib.request.urlopen(url).read()\n",
    "soup = BeautifulSoup(text)\n",
    "data = soup.findAll('div',attrs={'class':'column2'})\n",
    "for div in data:\n",
    "    links = div.findAll('a')\n",
    "    for a in links:\n",
    "        print(\"https://www.fdic.gov/\" + a['href'])"
   ]
  },
  {
   "cell_type": "code",
   "execution_count": 4,
   "id": "06c81b8a",
   "metadata": {},
   "outputs": [
    {
     "name": "stdout",
     "output_type": "stream",
     "text": [
      "https://www.fdic.gov//analysis/state-profiles/chicago/oh.pdf\n",
      "https://www.fdic.gov//analysis/state-profiles/dallas/ok.pdf\n",
      "https://www.fdic.gov//analysis/state-profiles/sanfrancisco/or.pdf\n",
      "https://www.fdic.gov//analysis/state-profiles/newyork/pa.pdf\n",
      "https://www.fdic.gov//analysis/state-profiles/newyork/pr.pdf\n",
      "https://www.fdic.gov//analysis/state-profiles/newyork/ri.pdf\n",
      "https://www.fdic.gov//analysis/state-profiles/atlanta/sc.pdf\n",
      "https://www.fdic.gov//analysis/state-profiles/kansascity/sd.pdf\n",
      "https://www.fdic.gov//analysis/state-profiles/dallas/tn.pdf\n",
      "https://www.fdic.gov//analysis/state-profiles/dallas/tx.pdf\n",
      "https://www.fdic.gov//analysis/state-profiles/sanfrancisco/ut.pdf\n",
      "https://www.fdic.gov//analysis/state-profiles/newyork/vt.pdf\n",
      "https://www.fdic.gov//analysis/state-profiles/atlanta/va.pdf\n",
      "https://www.fdic.gov//analysis/state-profiles/sanfrancisco/wa.pdf\n",
      "https://www.fdic.gov//analysis/state-profiles/atlanta/wv.pdf\n",
      "https://www.fdic.gov//analysis/state-profiles/chicago/wi.pdf\n",
      "https://www.fdic.gov//analysis/state-profiles/sanfrancisco/wy.pdf\n"
     ]
    }
   ],
   "source": [
    "url = \"https://www.fdic.gov/analysis/state-profiles/\"\n",
    "text = urllib.request.urlopen(url).read()\n",
    "soup = BeautifulSoup(text)\n",
    "data = soup.findAll('div',attrs={'class':'column3'})\n",
    "for div in data:\n",
    "    links = div.findAll('a')\n",
    "    for a in links:\n",
    "        print(\"https://www.fdic.gov/\" + a['href'])"
   ]
  },
  {
   "cell_type": "code",
   "execution_count": 22,
   "id": "42ae6847",
   "metadata": {},
   "outputs": [
    {
     "ename": "ModuleNotFoundError",
     "evalue": "No module named 'camelot'",
     "output_type": "error",
     "traceback": [
      "\u001b[0;31m---------------------------------------------------------------------------\u001b[0m",
      "\u001b[0;31mModuleNotFoundError\u001b[0m                       Traceback (most recent call last)",
      "\u001b[0;32m/tmp/ipykernel_4916/2287779741.py\u001b[0m in \u001b[0;36m<module>\u001b[0;34m\u001b[0m\n\u001b[0;32m----> 1\u001b[0;31m \u001b[0;32mimport\u001b[0m \u001b[0mcamelot\u001b[0m\u001b[0;34m\u001b[0m\u001b[0;34m\u001b[0m\u001b[0m\n\u001b[0m",
      "\u001b[0;31mModuleNotFoundError\u001b[0m: No module named 'camelot'"
     ]
    }
   ],
   "source": []
  },
  {
   "cell_type": "code",
   "execution_count": 36,
   "id": "6ddc3657",
   "metadata": {},
   "outputs": [
    {
     "ename": "SyntaxError",
     "evalue": "invalid syntax (197583707.py, line 1)",
     "output_type": "error",
     "traceback": [
      "\u001b[0;36m  File \u001b[0;32m\"/tmp/ipykernel_4916/197583707.py\"\u001b[0;36m, line \u001b[0;32m1\u001b[0m\n\u001b[0;31m    pip install camelot-py\u001b[0m\n\u001b[0m        ^\u001b[0m\n\u001b[0;31mSyntaxError\u001b[0m\u001b[0;31m:\u001b[0m invalid syntax\n"
     ]
    }
   ],
   "source": [
    "\n",
    "pip install camelot-py[cv]\n",
    "pip install camelot-py[all] # do it if camelot is not installed."
   ]
  },
  {
   "cell_type": "code",
   "execution_count": 37,
   "id": "6ddc4ed0",
   "metadata": {
    "scrolled": true
   },
   "outputs": [
    {
     "name": "stdout",
     "output_type": "stream",
     "text": [
      "Collecting camelot-py[cv]\n",
      "  Using cached camelot_py-0.10.1-py3-none-any.whl (40 kB)\n",
      "Requirement already satisfied: pdfminer.six>=20200726 in /home/shubha/.local/lib/python3.8/site-packages (from camelot-py[cv]) (20201018)\n",
      "Requirement already satisfied: tabulate>=0.8.9 in /home/shubha/.local/lib/python3.8/site-packages (from camelot-py[cv]) (0.8.9)\n",
      "Requirement already satisfied: click>=6.7 in /home/shubha/anaconda3/lib/python3.8/site-packages (from camelot-py[cv]) (7.1.2)\n",
      "Requirement already satisfied: openpyxl>=2.5.8 in /home/shubha/.local/lib/python3.8/site-packages (from camelot-py[cv]) (3.0.8)\n",
      "Requirement already satisfied: chardet>=3.0.4 in /home/shubha/anaconda3/lib/python3.8/site-packages (from camelot-py[cv]) (4.0.0)\n",
      "Requirement already satisfied: pandas>=0.23.4 in /home/shubha/.local/lib/python3.8/site-packages (from camelot-py[cv]) (1.3.4)\n",
      "Requirement already satisfied: PyPDF2>=1.26.0 in /home/shubha/.local/lib/python3.8/site-packages (from camelot-py[cv]) (1.26.0)\n",
      "Requirement already satisfied: numpy>=1.13.3 in /home/shubha/.local/lib/python3.8/site-packages (from camelot-py[cv]) (1.21.4)\n",
      "Collecting ghostscript>=0.7\n",
      "  Using cached ghostscript-0.7-py2.py3-none-any.whl (25 kB)\n",
      "Requirement already satisfied: opencv-python>=3.4.2.17 in /home/shubha/.local/lib/python3.8/site-packages (from camelot-py[cv]) (4.5.3.56)\n",
      "Requirement already satisfied: pdftopng>=0.2.3 in /home/shubha/.local/lib/python3.8/site-packages (from camelot-py[cv]) (0.2.3)\n",
      "Requirement already satisfied: setuptools>=38.6.0 in /home/shubha/anaconda3/lib/python3.8/site-packages (from ghostscript>=0.7->camelot-py[cv]) (52.0.0.post20210125)\n",
      "Requirement already satisfied: et-xmlfile in /home/shubha/.local/lib/python3.8/site-packages (from openpyxl>=2.5.8->camelot-py[cv]) (1.1.0)\n",
      "Requirement already satisfied: python-dateutil>=2.7.3 in /home/shubha/anaconda3/lib/python3.8/site-packages (from pandas>=0.23.4->camelot-py[cv]) (2.8.1)\n",
      "Requirement already satisfied: pytz>=2017.3 in /home/shubha/anaconda3/lib/python3.8/site-packages (from pandas>=0.23.4->camelot-py[cv]) (2021.1)\n",
      "Requirement already satisfied: sortedcontainers in /home/shubha/.local/lib/python3.8/site-packages (from pdfminer.six>=20200726->camelot-py[cv]) (2.4.0)\n",
      "Requirement already satisfied: cryptography in /home/shubha/anaconda3/lib/python3.8/site-packages (from pdfminer.six>=20200726->camelot-py[cv]) (3.4.7)\n",
      "Requirement already satisfied: six>=1.5 in /home/shubha/anaconda3/lib/python3.8/site-packages (from python-dateutil>=2.7.3->pandas>=0.23.4->camelot-py[cv]) (1.15.0)\n",
      "Requirement already satisfied: cffi>=1.12 in /home/shubha/.local/lib/python3.8/site-packages (from cryptography->pdfminer.six>=20200726->camelot-py[cv]) (1.14.6)\n",
      "Requirement already satisfied: pycparser in /home/shubha/.local/lib/python3.8/site-packages (from cffi>=1.12->cryptography->pdfminer.six>=20200726->camelot-py[cv]) (2.20)\n",
      "Installing collected packages: ghostscript, camelot-py\n",
      "Successfully installed camelot-py-0.10.1 ghostscript-0.7\n",
      "Note: you may need to restart the kernel to use updated packages.\n"
     ]
    }
   ],
   "source": [
    "pip install camelot-py[cv]"
   ]
  },
  {
   "cell_type": "code",
   "execution_count": 38,
   "id": "7db8696c",
   "metadata": {},
   "outputs": [
    {
     "name": "stdout",
     "output_type": "stream",
     "text": [
      "Requirement already satisfied: camelot-py[all] in /home/shubha/anaconda3/lib/python3.8/site-packages (0.10.1)\n",
      "Requirement already satisfied: tabulate>=0.8.9 in /home/shubha/.local/lib/python3.8/site-packages (from camelot-py[all]) (0.8.9)\n",
      "Requirement already satisfied: click>=6.7 in /home/shubha/anaconda3/lib/python3.8/site-packages (from camelot-py[all]) (7.1.2)\n",
      "Requirement already satisfied: openpyxl>=2.5.8 in /home/shubha/.local/lib/python3.8/site-packages (from camelot-py[all]) (3.0.8)\n",
      "Requirement already satisfied: PyPDF2>=1.26.0 in /home/shubha/.local/lib/python3.8/site-packages (from camelot-py[all]) (1.26.0)\n",
      "Requirement already satisfied: chardet>=3.0.4 in /home/shubha/anaconda3/lib/python3.8/site-packages (from camelot-py[all]) (4.0.0)\n",
      "Requirement already satisfied: pdfminer.six>=20200726 in /home/shubha/.local/lib/python3.8/site-packages (from camelot-py[all]) (20201018)\n",
      "Requirement already satisfied: numpy>=1.13.3 in /home/shubha/.local/lib/python3.8/site-packages (from camelot-py[all]) (1.21.4)\n",
      "Requirement already satisfied: pandas>=0.23.4 in /home/shubha/.local/lib/python3.8/site-packages (from camelot-py[all]) (1.3.4)\n",
      "Requirement already satisfied: ghostscript>=0.7 in /home/shubha/anaconda3/lib/python3.8/site-packages (from camelot-py[all]) (0.7)\n",
      "Requirement already satisfied: pdftopng>=0.2.3 in /home/shubha/.local/lib/python3.8/site-packages (from camelot-py[all]) (0.2.3)\n",
      "Requirement already satisfied: opencv-python>=3.4.2.17 in /home/shubha/.local/lib/python3.8/site-packages (from camelot-py[all]) (4.5.3.56)\n",
      "Requirement already satisfied: matplotlib>=2.2.3 in /home/shubha/anaconda3/lib/python3.8/site-packages (from camelot-py[all]) (3.3.4)\n",
      "Requirement already satisfied: setuptools>=38.6.0 in /home/shubha/anaconda3/lib/python3.8/site-packages (from ghostscript>=0.7->camelot-py[all]) (52.0.0.post20210125)\n",
      "Requirement already satisfied: pyparsing!=2.0.4,!=2.1.2,!=2.1.6,>=2.0.3 in /home/shubha/.local/lib/python3.8/site-packages (from matplotlib>=2.2.3->camelot-py[all]) (2.4.7)\n",
      "Requirement already satisfied: pillow>=6.2.0 in /home/shubha/anaconda3/lib/python3.8/site-packages (from matplotlib>=2.2.3->camelot-py[all]) (8.2.0)\n",
      "Requirement already satisfied: cycler>=0.10 in /home/shubha/anaconda3/lib/python3.8/site-packages (from matplotlib>=2.2.3->camelot-py[all]) (0.10.0)\n",
      "Requirement already satisfied: python-dateutil>=2.1 in /home/shubha/anaconda3/lib/python3.8/site-packages (from matplotlib>=2.2.3->camelot-py[all]) (2.8.1)\n",
      "Requirement already satisfied: kiwisolver>=1.0.1 in /home/shubha/anaconda3/lib/python3.8/site-packages (from matplotlib>=2.2.3->camelot-py[all]) (1.3.1)\n",
      "Requirement already satisfied: six in /home/shubha/anaconda3/lib/python3.8/site-packages (from cycler>=0.10->matplotlib>=2.2.3->camelot-py[all]) (1.15.0)\n",
      "Requirement already satisfied: et-xmlfile in /home/shubha/.local/lib/python3.8/site-packages (from openpyxl>=2.5.8->camelot-py[all]) (1.1.0)\n",
      "Requirement already satisfied: pytz>=2017.3 in /home/shubha/anaconda3/lib/python3.8/site-packages (from pandas>=0.23.4->camelot-py[all]) (2021.1)\n",
      "Requirement already satisfied: sortedcontainers in /home/shubha/.local/lib/python3.8/site-packages (from pdfminer.six>=20200726->camelot-py[all]) (2.4.0)\n",
      "Requirement already satisfied: cryptography in /home/shubha/anaconda3/lib/python3.8/site-packages (from pdfminer.six>=20200726->camelot-py[all]) (3.4.7)\n",
      "Requirement already satisfied: cffi>=1.12 in /home/shubha/.local/lib/python3.8/site-packages (from cryptography->pdfminer.six>=20200726->camelot-py[all]) (1.14.6)\n",
      "Requirement already satisfied: pycparser in /home/shubha/.local/lib/python3.8/site-packages (from cffi>=1.12->cryptography->pdfminer.six>=20200726->camelot-py[all]) (2.20)\n",
      "Note: you may need to restart the kernel to use updated packages.\n"
     ]
    }
   ],
   "source": [
    "pip install camelot-py[all]"
   ]
  },
  {
   "cell_type": "code",
   "execution_count": null,
   "id": "b615d518",
   "metadata": {},
   "outputs": [],
   "source": [
    "pip install camelot-py[all] "
   ]
  },
  {
   "cell_type": "code",
   "execution_count": 6,
   "id": "42f83b7b",
   "metadata": {},
   "outputs": [
    {
     "ename": "ImportError",
     "evalue": "cannot import name 'TableList' from 'camelot.core' (/home/shubha/anaconda3/lib/python3.8/site-packages/camelot/core/__init__.py)",
     "output_type": "error",
     "traceback": [
      "\u001b[0;31m---------------------------------------------------------------------------\u001b[0m",
      "\u001b[0;31mImportError\u001b[0m                               Traceback (most recent call last)",
      "\u001b[0;32m/tmp/ipykernel_6206/2287779741.py\u001b[0m in \u001b[0;36m<module>\u001b[0;34m\u001b[0m\n\u001b[0;32m----> 1\u001b[0;31m \u001b[0;32mimport\u001b[0m \u001b[0mcamelot\u001b[0m\u001b[0;34m\u001b[0m\u001b[0;34m\u001b[0m\u001b[0m\n\u001b[0m",
      "\u001b[0;32m~/anaconda3/lib/python3.8/site-packages/camelot/__init__.py\u001b[0m in \u001b[0;36m<module>\u001b[0;34m\u001b[0m\n\u001b[1;32m      4\u001b[0m \u001b[0;34m\u001b[0m\u001b[0m\n\u001b[1;32m      5\u001b[0m \u001b[0;32mfrom\u001b[0m \u001b[0;34m.\u001b[0m\u001b[0m__version__\u001b[0m \u001b[0;32mimport\u001b[0m \u001b[0m__version__\u001b[0m\u001b[0;34m\u001b[0m\u001b[0;34m\u001b[0m\u001b[0m\n\u001b[0;32m----> 6\u001b[0;31m \u001b[0;32mfrom\u001b[0m \u001b[0;34m.\u001b[0m\u001b[0mio\u001b[0m \u001b[0;32mimport\u001b[0m \u001b[0mread_pdf\u001b[0m\u001b[0;34m\u001b[0m\u001b[0;34m\u001b[0m\u001b[0m\n\u001b[0m\u001b[1;32m      7\u001b[0m \u001b[0;32mfrom\u001b[0m \u001b[0;34m.\u001b[0m\u001b[0mplotting\u001b[0m \u001b[0;32mimport\u001b[0m \u001b[0mPlotMethods\u001b[0m\u001b[0;34m\u001b[0m\u001b[0;34m\u001b[0m\u001b[0m\n\u001b[1;32m      8\u001b[0m \u001b[0;34m\u001b[0m\u001b[0m\n",
      "\u001b[0;32m~/anaconda3/lib/python3.8/site-packages/camelot/io.py\u001b[0m in \u001b[0;36m<module>\u001b[0;34m\u001b[0m\n\u001b[1;32m      3\u001b[0m \u001b[0;32mimport\u001b[0m \u001b[0mwarnings\u001b[0m\u001b[0;34m\u001b[0m\u001b[0;34m\u001b[0m\u001b[0m\n\u001b[1;32m      4\u001b[0m \u001b[0;34m\u001b[0m\u001b[0m\n\u001b[0;32m----> 5\u001b[0;31m \u001b[0;32mfrom\u001b[0m \u001b[0;34m.\u001b[0m\u001b[0mhandlers\u001b[0m \u001b[0;32mimport\u001b[0m \u001b[0mPDFHandler\u001b[0m\u001b[0;34m\u001b[0m\u001b[0;34m\u001b[0m\u001b[0m\n\u001b[0m\u001b[1;32m      6\u001b[0m \u001b[0;32mfrom\u001b[0m \u001b[0;34m.\u001b[0m\u001b[0mutils\u001b[0m \u001b[0;32mimport\u001b[0m \u001b[0mvalidate_input\u001b[0m\u001b[0;34m,\u001b[0m \u001b[0mremove_extra\u001b[0m\u001b[0;34m\u001b[0m\u001b[0;34m\u001b[0m\u001b[0m\n\u001b[1;32m      7\u001b[0m \u001b[0;34m\u001b[0m\u001b[0m\n",
      "\u001b[0;32m~/anaconda3/lib/python3.8/site-packages/camelot/handlers.py\u001b[0m in \u001b[0;36m<module>\u001b[0;34m\u001b[0m\n\u001b[1;32m      6\u001b[0m \u001b[0;32mfrom\u001b[0m \u001b[0mPyPDF2\u001b[0m \u001b[0;32mimport\u001b[0m \u001b[0mPdfFileReader\u001b[0m\u001b[0;34m,\u001b[0m \u001b[0mPdfFileWriter\u001b[0m\u001b[0;34m\u001b[0m\u001b[0;34m\u001b[0m\u001b[0m\n\u001b[1;32m      7\u001b[0m \u001b[0;34m\u001b[0m\u001b[0m\n\u001b[0;32m----> 8\u001b[0;31m \u001b[0;32mfrom\u001b[0m \u001b[0;34m.\u001b[0m\u001b[0mcore\u001b[0m \u001b[0;32mimport\u001b[0m \u001b[0mTableList\u001b[0m\u001b[0;34m\u001b[0m\u001b[0;34m\u001b[0m\u001b[0m\n\u001b[0m\u001b[1;32m      9\u001b[0m \u001b[0;32mfrom\u001b[0m \u001b[0;34m.\u001b[0m\u001b[0mparsers\u001b[0m \u001b[0;32mimport\u001b[0m \u001b[0mStream\u001b[0m\u001b[0;34m,\u001b[0m \u001b[0mLattice\u001b[0m\u001b[0;34m\u001b[0m\u001b[0;34m\u001b[0m\u001b[0m\n\u001b[1;32m     10\u001b[0m from .utils import (\n",
      "\u001b[0;31mImportError\u001b[0m: cannot import name 'TableList' from 'camelot.core' (/home/shubha/anaconda3/lib/python3.8/site-packages/camelot/core/__init__.py)"
     ]
    }
   ],
   "source": [
    "import camelot"
   ]
  },
  {
   "cell_type": "code",
   "execution_count": 29,
   "id": "ced6edd8",
   "metadata": {},
   "outputs": [],
   "source": [
    "file_path = '/home/shubha/work/byteiq_tasks/fdic/al.pdf'"
   ]
  },
  {
   "cell_type": "code",
   "execution_count": 28,
   "id": "d05604ce",
   "metadata": {},
   "outputs": [
    {
     "data": {
      "text/plain": [
       "'/home/shubha/work/byteiq_tasks/fdic'"
      ]
     },
     "execution_count": 28,
     "metadata": {},
     "output_type": "execute_result"
    }
   ],
   "source": [
    "pwd"
   ]
  },
  {
   "cell_type": "code",
   "execution_count": 2,
   "id": "31684571",
   "metadata": {},
   "outputs": [
    {
     "ename": "NameError",
     "evalue": "name 'camelot' is not defined",
     "output_type": "error",
     "traceback": [
      "\u001b[0;31m---------------------------------------------------------------------------\u001b[0m",
      "\u001b[0;31mNameError\u001b[0m                                 Traceback (most recent call last)",
      "\u001b[0;32m/tmp/ipykernel_6206/937123154.py\u001b[0m in \u001b[0;36m<module>\u001b[0;34m\u001b[0m\n\u001b[0;32m----> 1\u001b[0;31m \u001b[0mtables\u001b[0m \u001b[0;34m=\u001b[0m \u001b[0mcamelot\u001b[0m\u001b[0;34m.\u001b[0m\u001b[0mread_pdf\u001b[0m\u001b[0;34m(\u001b[0m\u001b[0mfilepath\u001b[0m\u001b[0;34m=\u001b[0m\u001b[0mfile_path\u001b[0m\u001b[0;34m,\u001b[0m \u001b[0mpages\u001b[0m\u001b[0;34m=\u001b[0m \u001b[0mall\u001b[0m\u001b[0;34m,\u001b[0m \u001b[0mline_scale\u001b[0m\u001b[0;34m=\u001b[0m\u001b[0;36m40\u001b[0m\u001b[0;34m)\u001b[0m\u001b[0;34m\u001b[0m\u001b[0;34m\u001b[0m\u001b[0m\n\u001b[0m",
      "\u001b[0;31mNameError\u001b[0m: name 'camelot' is not defined"
     ]
    }
   ],
   "source": [
    "tables = camelot.read_pdf(filepath=file_path, pages= all, line_scale=40)"
   ]
  },
  {
   "cell_type": "code",
   "execution_count": 1,
   "id": "ad5154b1",
   "metadata": {
    "scrolled": false
   },
   "outputs": [
    {
     "ename": "ImportError",
     "evalue": "cannot import name 'TableList' from 'camelot.core' (/home/shubha/anaconda3/lib/python3.8/site-packages/camelot/core/__init__.py)",
     "output_type": "error",
     "traceback": [
      "\u001b[0;31m---------------------------------------------------------------------------\u001b[0m",
      "\u001b[0;31mImportError\u001b[0m                               Traceback (most recent call last)",
      "\u001b[0;32m/tmp/ipykernel_6206/1157172589.py\u001b[0m in \u001b[0;36m<module>\u001b[0;34m\u001b[0m\n\u001b[0;32m----> 1\u001b[0;31m \u001b[0;32mimport\u001b[0m \u001b[0mcamelot\u001b[0m\u001b[0;34m\u001b[0m\u001b[0;34m\u001b[0m\u001b[0m\n\u001b[0m\u001b[1;32m      2\u001b[0m \u001b[0mtables\u001b[0m \u001b[0;34m=\u001b[0m \u001b[0mcamelot\u001b[0m\u001b[0;34m.\u001b[0m\u001b[0mread_pdf\u001b[0m\u001b[0;34m(\u001b[0m\u001b[0;34m'al.pdf'\u001b[0m\u001b[0;34m)\u001b[0m\u001b[0;34m\u001b[0m\u001b[0;34m\u001b[0m\u001b[0m\n",
      "\u001b[0;32m~/anaconda3/lib/python3.8/site-packages/camelot/__init__.py\u001b[0m in \u001b[0;36m<module>\u001b[0;34m\u001b[0m\n\u001b[1;32m      4\u001b[0m \u001b[0;34m\u001b[0m\u001b[0m\n\u001b[1;32m      5\u001b[0m \u001b[0;32mfrom\u001b[0m \u001b[0;34m.\u001b[0m\u001b[0m__version__\u001b[0m \u001b[0;32mimport\u001b[0m \u001b[0m__version__\u001b[0m\u001b[0;34m\u001b[0m\u001b[0;34m\u001b[0m\u001b[0m\n\u001b[0;32m----> 6\u001b[0;31m \u001b[0;32mfrom\u001b[0m \u001b[0;34m.\u001b[0m\u001b[0mio\u001b[0m \u001b[0;32mimport\u001b[0m \u001b[0mread_pdf\u001b[0m\u001b[0;34m\u001b[0m\u001b[0;34m\u001b[0m\u001b[0m\n\u001b[0m\u001b[1;32m      7\u001b[0m \u001b[0;32mfrom\u001b[0m \u001b[0;34m.\u001b[0m\u001b[0mplotting\u001b[0m \u001b[0;32mimport\u001b[0m \u001b[0mPlotMethods\u001b[0m\u001b[0;34m\u001b[0m\u001b[0;34m\u001b[0m\u001b[0m\n\u001b[1;32m      8\u001b[0m \u001b[0;34m\u001b[0m\u001b[0m\n",
      "\u001b[0;32m~/anaconda3/lib/python3.8/site-packages/camelot/io.py\u001b[0m in \u001b[0;36m<module>\u001b[0;34m\u001b[0m\n\u001b[1;32m      3\u001b[0m \u001b[0;32mimport\u001b[0m \u001b[0mwarnings\u001b[0m\u001b[0;34m\u001b[0m\u001b[0;34m\u001b[0m\u001b[0m\n\u001b[1;32m      4\u001b[0m \u001b[0;34m\u001b[0m\u001b[0m\n\u001b[0;32m----> 5\u001b[0;31m \u001b[0;32mfrom\u001b[0m \u001b[0;34m.\u001b[0m\u001b[0mhandlers\u001b[0m \u001b[0;32mimport\u001b[0m \u001b[0mPDFHandler\u001b[0m\u001b[0;34m\u001b[0m\u001b[0;34m\u001b[0m\u001b[0m\n\u001b[0m\u001b[1;32m      6\u001b[0m \u001b[0;32mfrom\u001b[0m \u001b[0;34m.\u001b[0m\u001b[0mutils\u001b[0m \u001b[0;32mimport\u001b[0m \u001b[0mvalidate_input\u001b[0m\u001b[0;34m,\u001b[0m \u001b[0mremove_extra\u001b[0m\u001b[0;34m\u001b[0m\u001b[0;34m\u001b[0m\u001b[0m\n\u001b[1;32m      7\u001b[0m \u001b[0;34m\u001b[0m\u001b[0m\n",
      "\u001b[0;32m~/anaconda3/lib/python3.8/site-packages/camelot/handlers.py\u001b[0m in \u001b[0;36m<module>\u001b[0;34m\u001b[0m\n\u001b[1;32m      6\u001b[0m \u001b[0;32mfrom\u001b[0m \u001b[0mPyPDF2\u001b[0m \u001b[0;32mimport\u001b[0m \u001b[0mPdfFileReader\u001b[0m\u001b[0;34m,\u001b[0m \u001b[0mPdfFileWriter\u001b[0m\u001b[0;34m\u001b[0m\u001b[0;34m\u001b[0m\u001b[0m\n\u001b[1;32m      7\u001b[0m \u001b[0;34m\u001b[0m\u001b[0m\n\u001b[0;32m----> 8\u001b[0;31m \u001b[0;32mfrom\u001b[0m \u001b[0;34m.\u001b[0m\u001b[0mcore\u001b[0m \u001b[0;32mimport\u001b[0m \u001b[0mTableList\u001b[0m\u001b[0;34m\u001b[0m\u001b[0;34m\u001b[0m\u001b[0m\n\u001b[0m\u001b[1;32m      9\u001b[0m \u001b[0;32mfrom\u001b[0m \u001b[0;34m.\u001b[0m\u001b[0mparsers\u001b[0m \u001b[0;32mimport\u001b[0m \u001b[0mStream\u001b[0m\u001b[0;34m,\u001b[0m \u001b[0mLattice\u001b[0m\u001b[0;34m\u001b[0m\u001b[0;34m\u001b[0m\u001b[0m\n\u001b[1;32m     10\u001b[0m from .utils import (\n",
      "\u001b[0;31mImportError\u001b[0m: cannot import name 'TableList' from 'camelot.core' (/home/shubha/anaconda3/lib/python3.8/site-packages/camelot/core/__init__.py)"
     ]
    }
   ],
   "source": [
    "import camelot\n",
    "tables = camelot.read_pdf('al.pdf')"
   ]
  },
  {
   "cell_type": "code",
   "execution_count": null,
   "id": "6ace2a01",
   "metadata": {},
   "outputs": [],
   "source": [
    "!python -m pip uninstall camelot --yes"
   ]
  },
  {
   "cell_type": "code",
   "execution_count": null,
   "id": "8a6951e6",
   "metadata": {},
   "outputs": [
    {
     "name": "stdout",
     "output_type": "stream",
     "text": [
      "Found existing installation: Camelot 12.6.29\n",
      "Uninstalling Camelot-12.6.29:\n",
      "  Would remove:\n",
      "    /home/shubha/anaconda3/bin/camelot_admin\n",
      "    /home/shubha/anaconda3/bin/camelot_example\n",
      "    /home/shubha/anaconda3/bin/camelot_mini_example\n",
      "    /home/shubha/anaconda3/lib/python3.8/site-packages/Camelot-12.6.29.dist-info/*\n",
      "    /home/shubha/anaconda3/lib/python3.8/site-packages/camelot/*\n",
      "    /home/shubha/anaconda3/lib/python3.8/site-packages/camelot_example/*\n",
      "    /home/shubha/anaconda3/lib/python3.8/site-packages/doc/sphinx/source/_static/action_button.png\n",
      "    /home/shubha/anaconda3/lib/python3.8/site-packages/doc/sphinx/source/_static/admin_classes.png\n",
      "    /home/shubha/anaconda3/lib/python3.8/site-packages/doc/sphinx/source/_static/budget.png\n",
      "    /home/shubha/anaconda3/lib/python3.8/site-packages/doc/sphinx/source/_static/camelot-new-project.png\n",
      "    /home/shubha/anaconda3/lib/python3.8/site-packages/doc/sphinx/source/_static/camelot_qt_linguist.png\n",
      "    /home/shubha/anaconda3/lib/python3.8/site-packages/doc/sphinx/source/_static/collection_proxy.png\n",
      "    /home/shubha/anaconda3/lib/python3.8/site-packages/doc/sphinx/source/_static/color.png\n",
      "    /home/shubha/anaconda3/lib/python3.8/site-packages/doc/sphinx/source/_static/cpd_installer.png\n",
      "    /home/shubha/anaconda3/lib/python3.8/site-packages/doc/sphinx/source/_static/editors/ChartEditor_disabled.png\n",
      "    /home/shubha/anaconda3/lib/python3.8/site-packages/doc/sphinx/source/_static/editors/ChartEditor_editable.png\n",
      "    /home/shubha/anaconda3/lib/python3.8/site-packages/doc/sphinx/source/_static/enumeration.png\n",
      "    /home/shubha/anaconda3/lib/python3.8/site-packages/doc/sphinx/source/_static/field_attributes.png\n",
      "    /home/shubha/anaconda3/lib/python3.8/site-packages/doc/sphinx/source/_static/file_delegate.png\n",
      "    /home/shubha/anaconda3/lib/python3.8/site-packages/doc/sphinx/source/_static/final_report.png\n",
      "    /home/shubha/anaconda3/lib/python3.8/site-packages/doc/sphinx/source/_static/image.png\n",
      "    /home/shubha/anaconda3/lib/python3.8/site-packages/doc/sphinx/source/_static/interval_column_delegate.png\n",
      "    /home/shubha/anaconda3/lib/python3.8/site-packages/doc/sphinx/source/_static/main-window.png\n",
      "    /home/shubha/anaconda3/lib/python3.8/site-packages/doc/sphinx/source/_static/manytomany.png\n",
      "    /home/shubha/anaconda3/lib/python3.8/site-packages/doc/sphinx/source/_static/manytoone.png\n",
      "    /home/shubha/anaconda3/lib/python3.8/site-packages/doc/sphinx/source/_static/movie-table.png\n",
      "    /home/shubha/anaconda3/lib/python3.8/site-packages/doc/sphinx/source/_static/navigation-pane.png\n",
      "    /home/shubha/anaconda3/lib/python3.8/site-packages/doc/sphinx/source/_static/new-form.png\n",
      "    /home/shubha/anaconda3/lib/python3.8/site-packages/doc/sphinx/source/_static/new-record.png\n",
      "    /home/shubha/anaconda3/lib/python3.8/site-packages/doc/sphinx/source/_static/onetomany.png\n",
      "    /home/shubha/anaconda3/lib/python3.8/site-packages/doc/sphinx/source/_static/picture1.png\n",
      "    /home/shubha/anaconda3/lib/python3.8/site-packages/doc/sphinx/source/_static/picture2.png\n",
      "    /home/shubha/anaconda3/lib/python3.8/site-packages/doc/sphinx/source/_static/picture3.png\n",
      "    /home/shubha/anaconda3/lib/python3.8/site-packages/doc/sphinx/source/_static/picture4.png\n",
      "    /home/shubha/anaconda3/lib/python3.8/site-packages/doc/sphinx/source/_static/picture5.png\n",
      "    /home/shubha/anaconda3/lib/python3.8/site-packages/doc/sphinx/source/_static/picture6.png\n",
      "    /home/shubha/anaconda3/lib/python3.8/site-packages/doc/sphinx/source/_static/picture7.png\n",
      "    /home/shubha/anaconda3/lib/python3.8/site-packages/doc/sphinx/source/_static/picture8.png\n",
      "    /home/shubha/anaconda3/lib/python3.8/site-packages/doc/sphinx/source/_static/plaintext.png\n",
      "    /home/shubha/anaconda3/lib/python3.8/site-packages/doc/sphinx/source/_static/rating.png\n",
      "    /home/shubha/anaconda3/lib/python3.8/site-packages/doc/sphinx/source/_static/richtext.png\n",
      "    /home/shubha/anaconda3/lib/python3.8/site-packages/doc/sphinx/source/_static/simple_report.png\n",
      "    /home/shubha/anaconda3/lib/python3.8/site-packages/doc/sphinx/source/_static/spyder-new-project.png\n",
      "    /home/shubha/anaconda3/lib/python3.8/site-packages/doc/sphinx/source/_static/start-spyder.png\n",
      "    /home/shubha/anaconda3/lib/python3.8/site-packages/doc/sphinx/source/_static/table-view.png\n",
      "    /home/shubha/anaconda3/lib/python3.8/site-packages/doc/sphinx/source/_static/template_document_word.png\n",
      "    /home/shubha/anaconda3/lib/python3.8/site-packages/doc/sphinx/source/_static/template_document_word_save_as.png\n",
      "    /home/shubha/anaconda3/lib/python3.8/site-packages/doc/sphinx/source/_static/toolbar.png\n",
      "    /home/shubha/anaconda3/lib/python3.8/site-packages/doc/sphinx/source/_static/unittest_dream.png\n",
      "    /home/shubha/anaconda3/lib/python3.8/site-packages/doc/sphinx/source/_static/virtualaddress_editor.png\n",
      "    /home/shubha/anaconda3/lib/python3.8/site-packages/doc/sphinx/source/_templates/layout.html\n",
      "    /home/shubha/anaconda3/lib/python3.8/site-packages/doc/sphinx/source/advanced/debug.rst\n",
      "    /home/shubha/anaconda3/lib/python3.8/site-packages/doc/sphinx/source/advanced/deployment.rst\n",
      "    /home/shubha/anaconda3/lib/python3.8/site-packages/doc/sphinx/source/advanced/development.rst\n",
      "    /home/shubha/anaconda3/lib/python3.8/site-packages/doc/sphinx/source/advanced/i18n.rst\n",
      "    /home/shubha/anaconda3/lib/python3.8/site-packages/doc/sphinx/source/advanced/index.rst\n",
      "    /home/shubha/anaconda3/lib/python3.8/site-packages/doc/sphinx/source/advanced/permissions.rst\n",
      "    /home/shubha/anaconda3/lib/python3.8/site-packages/doc/sphinx/source/advanced/unittests.rst\n",
      "    /home/shubha/anaconda3/lib/python3.8/site-packages/doc/sphinx/source/cep/actions_new.rst\n",
      "    /home/shubha/anaconda3/lib/python3.8/site-packages/doc/sphinx/source/cep/index.rst\n",
      "    /home/shubha/anaconda3/lib/python3.8/site-packages/doc/sphinx/source/cep/table_view.rst\n",
      "    /home/shubha/anaconda3/lib/python3.8/site-packages/doc/sphinx/source/contents.rst\n",
      "    /home/shubha/anaconda3/lib/python3.8/site-packages/doc/sphinx/source/copyright.rst\n",
      "    /home/shubha/anaconda3/lib/python3.8/site-packages/doc/sphinx/source/doc/actions.rst\n",
      "    /home/shubha/anaconda3/lib/python3.8/site-packages/doc/sphinx/source/doc/admin.rst\n",
      "    /home/shubha/anaconda3/lib/python3.8/site-packages/doc/sphinx/source/doc/application_admin.rst\n",
      "    /home/shubha/anaconda3/lib/python3.8/site-packages/doc/sphinx/source/doc/calculated_fields.rst\n",
      "    /home/shubha/anaconda3/lib/python3.8/site-packages/doc/sphinx/source/doc/charts.rst\n",
      "    /home/shubha/anaconda3/lib/python3.8/site-packages/doc/sphinx/source/doc/data_model.rst\n",
      "    /home/shubha/anaconda3/lib/python3.8/site-packages/doc/sphinx/source/doc/delegates.rst\n",
      "    /home/shubha/anaconda3/lib/python3.8/site-packages/doc/sphinx/source/doc/documents.rst\n",
      "    /home/shubha/anaconda3/lib/python3.8/site-packages/doc/sphinx/source/doc/entity_admin.rst\n",
      "    /home/shubha/anaconda3/lib/python3.8/site-packages/doc/sphinx/source/doc/faq.rst\n",
      "    /home/shubha/anaconda3/lib/python3.8/site-packages/doc/sphinx/source/doc/field_attributes.rst\n",
      "    /home/shubha/anaconda3/lib/python3.8/site-packages/doc/sphinx/source/doc/fields.rst\n",
      "    /home/shubha/anaconda3/lib/python3.8/site-packages/doc/sphinx/source/doc/fixtures.rst\n",
      "    /home/shubha/anaconda3/lib/python3.8/site-packages/doc/sphinx/source/doc/forms.rst\n",
      "    /home/shubha/anaconda3/lib/python3.8/site-packages/doc/sphinx/source/doc/index.rst\n",
      "    /home/shubha/anaconda3/lib/python3.8/site-packages/doc/sphinx/source/doc/install.rst\n",
      "    /home/shubha/anaconda3/lib/python3.8/site-packages/doc/sphinx/source/doc/manage.rst\n",
      "    /home/shubha/anaconda3/lib/python3.8/site-packages/doc/sphinx/source/doc/models.rst\n",
      "    /home/shubha/anaconda3/lib/python3.8/site-packages/doc/sphinx/source/doc/object_admin.rst\n",
      "    /home/shubha/anaconda3/lib/python3.8/site-packages/doc/sphinx/source/doc/reports.rst\n",
      "    /home/shubha/anaconda3/lib/python3.8/site-packages/doc/sphinx/source/doc/schemas.rst\n",
      "    /home/shubha/anaconda3/lib/python3.8/site-packages/doc/sphinx/source/doc/shortcuts.rst\n",
      "    /home/shubha/anaconda3/lib/python3.8/site-packages/doc/sphinx/source/doc/threads.rst\n",
      "    /home/shubha/anaconda3/lib/python3.8/site-packages/doc/sphinx/source/doc/under_the_hood.rst\n",
      "    /home/shubha/anaconda3/lib/python3.8/site-packages/doc/sphinx/source/doc/validators.rst\n",
      "    /home/shubha/anaconda3/lib/python3.8/site-packages/doc/sphinx/source/doc/views.rst\n",
      "    /home/shubha/anaconda3/lib/python3.8/site-packages/doc/sphinx/source/index.rst\n",
      "    /home/shubha/anaconda3/lib/python3.8/site-packages/doc/sphinx/source/license.rst\n",
      "    /home/shubha/anaconda3/lib/python3.8/site-packages/doc/sphinx/source/migrate/11-12-30.rst\n",
      "    /home/shubha/anaconda3/lib/python3.8/site-packages/doc/sphinx/source/migrate/index.rst\n",
      "    /home/shubha/anaconda3/lib/python3.8/site-packages/doc/sphinx/source/news.rst\n",
      "    /home/shubha/anaconda3/lib/python3.8/site-packages/doc/sphinx/source/tutorial/importer.rst\n",
      "    /home/shubha/anaconda3/lib/python3.8/site-packages/doc/sphinx/source/tutorial/index.rst\n",
      "    /home/shubha/anaconda3/lib/python3.8/site-packages/doc/sphinx/source/tutorial/reporting.rst\n",
      "    /home/shubha/anaconda3/lib/python3.8/site-packages/doc/sphinx/source/tutorial/videostore.rst\n",
      "    /home/shubha/anaconda3/lib/python3.8/site-packages/test/*\n",
      "  Would not remove (might be manually added):\n",
      "    /home/shubha/anaconda3/lib/python3.8/site-packages/camelot/__main__.py\n",
      "    /home/shubha/anaconda3/lib/python3.8/site-packages/camelot/__version__.py\n",
      "    /home/shubha/anaconda3/lib/python3.8/site-packages/camelot/backends/__init__.py\n",
      "    /home/shubha/anaconda3/lib/python3.8/site-packages/camelot/backends/ghostscript_backend.py\n",
      "    /home/shubha/anaconda3/lib/python3.8/site-packages/camelot/backends/image_conversion.py\n",
      "    /home/shubha/anaconda3/lib/python3.8/site-packages/camelot/backends/poppler_backend.py\n",
      "    /home/shubha/anaconda3/lib/python3.8/site-packages/camelot/cli.py\n",
      "    /home/shubha/anaconda3/lib/python3.8/site-packages/camelot/core.py\n",
      "    /home/shubha/anaconda3/lib/python3.8/site-packages/camelot/handlers.py\n",
      "    /home/shubha/anaconda3/lib/python3.8/site-packages/camelot/image_processing.py\n",
      "    /home/shubha/anaconda3/lib/python3.8/site-packages/camelot/io.py\n",
      "    /home/shubha/anaconda3/lib/python3.8/site-packages/camelot/parsers/__init__.py\n",
      "    /home/shubha/anaconda3/lib/python3.8/site-packages/camelot/parsers/base.py\n",
      "    /home/shubha/anaconda3/lib/python3.8/site-packages/camelot/parsers/lattice.py\n",
      "    /home/shubha/anaconda3/lib/python3.8/site-packages/camelot/parsers/stream.py\n",
      "    /home/shubha/anaconda3/lib/python3.8/site-packages/camelot/plotting.py\n",
      "    /home/shubha/anaconda3/lib/python3.8/site-packages/camelot/utils.py\n",
      "Proceed (y/n)? "
     ]
    }
   ],
   "source": [
    "pip uninstall camelot"
   ]
  },
  {
   "cell_type": "code",
   "execution_count": null,
   "id": "bf854fbb",
   "metadata": {},
   "outputs": [],
   "source": [
    "y"
   ]
  },
  {
   "cell_type": "code",
   "execution_count": null,
   "id": "455bbd4d",
   "metadata": {},
   "outputs": [],
   "source": [
    "pip uninstall camelot-py"
   ]
  },
  {
   "cell_type": "code",
   "execution_count": null,
   "id": "bb41f394",
   "metadata": {},
   "outputs": [],
   "source": []
  },
  {
   "cell_type": "code",
   "execution_count": null,
   "id": "7d98c11f",
   "metadata": {},
   "outputs": [],
   "source": []
  },
  {
   "cell_type": "code",
   "execution_count": null,
   "id": "e0c3a1e2",
   "metadata": {},
   "outputs": [],
   "source": []
  }
 ],
 "metadata": {
  "kernelspec": {
   "display_name": "Python 3 (ipykernel)",
   "language": "python",
   "name": "python3"
  },
  "language_info": {
   "codemirror_mode": {
    "name": "ipython",
    "version": 3
   },
   "file_extension": ".py",
   "mimetype": "text/x-python",
   "name": "python",
   "nbconvert_exporter": "python",
   "pygments_lexer": "ipython3",
   "version": "3.8.8"
  }
 },
 "nbformat": 4,
 "nbformat_minor": 5
}
